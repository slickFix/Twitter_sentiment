{
 "cells": [
  {
   "cell_type": "code",
   "execution_count": 6,
   "metadata": {},
   "outputs": [],
   "source": [
    "# importing libraries\n",
    "\n",
    "import numpy as np\n",
    "import pandas as pd\n",
    "import psycopg2 as pg2\n",
    "import nltk\n",
    "import re\n",
    "import matplotlib.pyplot as plt\n",
    "\n",
    "from nltk.corpus import stopwords\n",
    "from nltk.stem import WordNetLemmatizer\n",
    "from nltk.tokenize import word_tokenize"
   ]
  },
  {
   "cell_type": "code",
   "execution_count": 33,
   "metadata": {},
   "outputs": [],
   "source": [
    "pd.options.display.max_columns = 1000\n",
    "pd.options.display.max_rows = 1000"
   ]
  },
  {
   "cell_type": "code",
   "execution_count": 34,
   "metadata": {},
   "outputs": [],
   "source": [
    "# defining functions\n",
    "\n",
    "def getDataFromDB(query):\n",
    "    \n",
    "    try:\n",
    "        conn = pg2.connect(dbname='twitterDB',user='postgres',password='postgres',host='localhost',port='5432')\n",
    "        \n",
    "        if conn.closed ==0:  # checks the system connection is active\n",
    "            print(\"Connected to the DB\")\n",
    "            \n",
    "            cur = conn.cursor()\n",
    "            \n",
    "            cur.execute(query)\n",
    "            records = cur.fetchall()\n",
    "            \n",
    "            print(\"Data fetched\")\n",
    "            \n",
    "            return records\n",
    "            \n",
    "    except Exception as e:\n",
    "        print(\"Error thrown\")\n",
    "        print(e)\n",
    "    \n",
    "    finally:\n",
    "        print(\"Closing connection\")\n",
    "        cur.close()\n",
    "        conn.close()\n",
    "        \n",
    "    "
   ]
  },
  {
   "cell_type": "code",
   "execution_count": 35,
   "metadata": {},
   "outputs": [],
   "source": [
    "query1 = 'select * from tweets'"
   ]
  },
  {
   "cell_type": "code",
   "execution_count": 36,
   "metadata": {},
   "outputs": [
    {
     "name": "stdout",
     "output_type": "stream",
     "text": [
      "Connected to the DB\n",
      "Data fetched\n",
      "Closing connection\n"
     ]
    }
   ],
   "source": [
    "val = getDataFromDB(query1)"
   ]
  },
  {
   "cell_type": "code",
   "execution_count": 37,
   "metadata": {},
   "outputs": [],
   "source": [
    "df = pd.DataFrame(val,columns=['index','username','time_created','tweet','retweet_count','place_tweet','location_user'])"
   ]
  },
  {
   "cell_type": "code",
   "execution_count": 38,
   "metadata": {},
   "outputs": [
    {
     "data": {
      "text/html": [
       "<div>\n",
       "<style scoped>\n",
       "    .dataframe tbody tr th:only-of-type {\n",
       "        vertical-align: middle;\n",
       "    }\n",
       "\n",
       "    .dataframe tbody tr th {\n",
       "        vertical-align: top;\n",
       "    }\n",
       "\n",
       "    .dataframe thead th {\n",
       "        text-align: right;\n",
       "    }\n",
       "</style>\n",
       "<table border=\"1\" class=\"dataframe\">\n",
       "  <thead>\n",
       "    <tr style=\"text-align: right;\">\n",
       "      <th></th>\n",
       "      <th>index</th>\n",
       "      <th>username</th>\n",
       "      <th>time_created</th>\n",
       "      <th>tweet</th>\n",
       "      <th>retweet_count</th>\n",
       "      <th>place_tweet</th>\n",
       "      <th>location_user</th>\n",
       "    </tr>\n",
       "  </thead>\n",
       "  <tbody>\n",
       "    <tr>\n",
       "      <th>0</th>\n",
       "      <td>3</td>\n",
       "      <td>lionslide</td>\n",
       "      <td>2019-01-15 19:12:47+05:30</td>\n",
       "      <td>RT @iKNOMOMMY: LOOK AT LOVE SCENARIO SITTING T...</td>\n",
       "      <td>0</td>\n",
       "      <td>None</td>\n",
       "      <td>None</td>\n",
       "    </tr>\n",
       "    <tr>\n",
       "      <th>1</th>\n",
       "      <td>4</td>\n",
       "      <td>octopusjokes</td>\n",
       "      <td>2019-01-15 19:12:47+05:30</td>\n",
       "      <td>Take a bow, Ms. Channing</td>\n",
       "      <td>0</td>\n",
       "      <td>the library</td>\n",
       "      <td>None</td>\n",
       "    </tr>\n",
       "    <tr>\n",
       "      <th>2</th>\n",
       "      <td>5</td>\n",
       "      <td>hawley_lisa</td>\n",
       "      <td>2019-01-15 19:12:47+05:30</td>\n",
       "      <td>RT @ScottMStedman: It would be a shame if this...</td>\n",
       "      <td>0</td>\n",
       "      <td>Germany (Not Really)</td>\n",
       "      <td>None</td>\n",
       "    </tr>\n",
       "    <tr>\n",
       "      <th>3</th>\n",
       "      <td>6</td>\n",
       "      <td>SoniaSofia80</td>\n",
       "      <td>2019-01-15 19:12:47+05:30</td>\n",
       "      <td>RT @m_yosry2012: Coming baby 😂 https://t.co/Rx...</td>\n",
       "      <td>0</td>\n",
       "      <td>North</td>\n",
       "      <td>None</td>\n",
       "    </tr>\n",
       "    <tr>\n",
       "      <th>4</th>\n",
       "      <td>7</td>\n",
       "      <td>dominicdreams</td>\n",
       "      <td>2019-01-15 19:12:47+05:30</td>\n",
       "      <td>@ShadowhuntersTV Why they can be like this all...</td>\n",
       "      <td>0</td>\n",
       "      <td>spain</td>\n",
       "      <td>None</td>\n",
       "    </tr>\n",
       "  </tbody>\n",
       "</table>\n",
       "</div>"
      ],
      "text/plain": [
       "   index       username               time_created  \\\n",
       "0      3      lionslide  2019-01-15 19:12:47+05:30   \n",
       "1      4   octopusjokes  2019-01-15 19:12:47+05:30   \n",
       "2      5    hawley_lisa  2019-01-15 19:12:47+05:30   \n",
       "3      6   SoniaSofia80  2019-01-15 19:12:47+05:30   \n",
       "4      7  dominicdreams  2019-01-15 19:12:47+05:30   \n",
       "\n",
       "                                               tweet  retweet_count  \\\n",
       "0  RT @iKNOMOMMY: LOOK AT LOVE SCENARIO SITTING T...              0   \n",
       "1                           Take a bow, Ms. Channing              0   \n",
       "2  RT @ScottMStedman: It would be a shame if this...              0   \n",
       "3  RT @m_yosry2012: Coming baby 😂 https://t.co/Rx...              0   \n",
       "4  @ShadowhuntersTV Why they can be like this all...              0   \n",
       "\n",
       "            place_tweet location_user  \n",
       "0                  None          None  \n",
       "1           the library          None  \n",
       "2  Germany (Not Really)          None  \n",
       "3                 North          None  \n",
       "4                 spain          None  "
      ]
     },
     "execution_count": 38,
     "metadata": {},
     "output_type": "execute_result"
    }
   ],
   "source": [
    "df.head()"
   ]
  },
  {
   "cell_type": "code",
   "execution_count": null,
   "metadata": {},
   "outputs": [],
   "source": []
  }
 ],
 "metadata": {
  "kernelspec": {
   "display_name": "Python 3",
   "language": "python",
   "name": "python3"
  },
  "language_info": {
   "codemirror_mode": {
    "name": "ipython",
    "version": 3
   },
   "file_extension": ".py",
   "mimetype": "text/x-python",
   "name": "python",
   "nbconvert_exporter": "python",
   "pygments_lexer": "ipython3",
   "version": "3.6.5"
  }
 },
 "nbformat": 4,
 "nbformat_minor": 2
}
